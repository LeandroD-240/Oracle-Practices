{
 "cells": [
  {
   "cell_type": "markdown",
   "id": "abd80e5a",
   "metadata": {},
   "source": [
    "# Telecom X"
   ]
  },
  {
   "cell_type": "markdown",
   "id": "ee0d41a0",
   "metadata": {},
   "source": [
    "## Importación de datos"
   ]
  },
  {
   "cell_type": "code",
   "execution_count": 1,
   "id": "bf080aea",
   "metadata": {},
   "outputs": [],
   "source": [
    "# Librerias\n",
    "import pandas as pd\n",
    "import numpy as np\n",
    "from scipy.stats import kurtosis\n",
    "import matplotlib.pyplot as plt\n",
    "import seaborn as sns"
   ]
  },
  {
   "cell_type": "code",
   "execution_count": 2,
   "id": "83b3a074",
   "metadata": {},
   "outputs": [
    {
     "data": {
      "text/html": [
       "<div>\n",
       "<style scoped>\n",
       "    .dataframe tbody tr th:only-of-type {\n",
       "        vertical-align: middle;\n",
       "    }\n",
       "\n",
       "    .dataframe tbody tr th {\n",
       "        vertical-align: top;\n",
       "    }\n",
       "\n",
       "    .dataframe thead th {\n",
       "        text-align: right;\n",
       "    }\n",
       "</style>\n",
       "<table border=\"1\" class=\"dataframe\">\n",
       "  <thead>\n",
       "    <tr style=\"text-align: right;\">\n",
       "      <th></th>\n",
       "      <th>customerID</th>\n",
       "      <th>Churn</th>\n",
       "      <th>customer</th>\n",
       "      <th>phone</th>\n",
       "      <th>internet</th>\n",
       "      <th>account</th>\n",
       "    </tr>\n",
       "  </thead>\n",
       "  <tbody>\n",
       "    <tr>\n",
       "      <th>0</th>\n",
       "      <td>0002-ORFBO</td>\n",
       "      <td>No</td>\n",
       "      <td>{'gender': 'Female', 'SeniorCitizen': 0, 'Part...</td>\n",
       "      <td>{'PhoneService': 'Yes', 'MultipleLines': 'No'}</td>\n",
       "      <td>{'InternetService': 'DSL', 'OnlineSecurity': '...</td>\n",
       "      <td>{'Contract': 'One year', 'PaperlessBilling': '...</td>\n",
       "    </tr>\n",
       "    <tr>\n",
       "      <th>1</th>\n",
       "      <td>0003-MKNFE</td>\n",
       "      <td>No</td>\n",
       "      <td>{'gender': 'Male', 'SeniorCitizen': 0, 'Partne...</td>\n",
       "      <td>{'PhoneService': 'Yes', 'MultipleLines': 'Yes'}</td>\n",
       "      <td>{'InternetService': 'DSL', 'OnlineSecurity': '...</td>\n",
       "      <td>{'Contract': 'Month-to-month', 'PaperlessBilli...</td>\n",
       "    </tr>\n",
       "    <tr>\n",
       "      <th>2</th>\n",
       "      <td>0004-TLHLJ</td>\n",
       "      <td>Yes</td>\n",
       "      <td>{'gender': 'Male', 'SeniorCitizen': 0, 'Partne...</td>\n",
       "      <td>{'PhoneService': 'Yes', 'MultipleLines': 'No'}</td>\n",
       "      <td>{'InternetService': 'Fiber optic', 'OnlineSecu...</td>\n",
       "      <td>{'Contract': 'Month-to-month', 'PaperlessBilli...</td>\n",
       "    </tr>\n",
       "    <tr>\n",
       "      <th>3</th>\n",
       "      <td>0011-IGKFF</td>\n",
       "      <td>Yes</td>\n",
       "      <td>{'gender': 'Male', 'SeniorCitizen': 1, 'Partne...</td>\n",
       "      <td>{'PhoneService': 'Yes', 'MultipleLines': 'No'}</td>\n",
       "      <td>{'InternetService': 'Fiber optic', 'OnlineSecu...</td>\n",
       "      <td>{'Contract': 'Month-to-month', 'PaperlessBilli...</td>\n",
       "    </tr>\n",
       "    <tr>\n",
       "      <th>4</th>\n",
       "      <td>0013-EXCHZ</td>\n",
       "      <td>Yes</td>\n",
       "      <td>{'gender': 'Female', 'SeniorCitizen': 1, 'Part...</td>\n",
       "      <td>{'PhoneService': 'Yes', 'MultipleLines': 'No'}</td>\n",
       "      <td>{'InternetService': 'Fiber optic', 'OnlineSecu...</td>\n",
       "      <td>{'Contract': 'Month-to-month', 'PaperlessBilli...</td>\n",
       "    </tr>\n",
       "  </tbody>\n",
       "</table>\n",
       "</div>"
      ],
      "text/plain": [
       "   customerID Churn                                           customer  \\\n",
       "0  0002-ORFBO    No  {'gender': 'Female', 'SeniorCitizen': 0, 'Part...   \n",
       "1  0003-MKNFE    No  {'gender': 'Male', 'SeniorCitizen': 0, 'Partne...   \n",
       "2  0004-TLHLJ   Yes  {'gender': 'Male', 'SeniorCitizen': 0, 'Partne...   \n",
       "3  0011-IGKFF   Yes  {'gender': 'Male', 'SeniorCitizen': 1, 'Partne...   \n",
       "4  0013-EXCHZ   Yes  {'gender': 'Female', 'SeniorCitizen': 1, 'Part...   \n",
       "\n",
       "                                             phone  \\\n",
       "0   {'PhoneService': 'Yes', 'MultipleLines': 'No'}   \n",
       "1  {'PhoneService': 'Yes', 'MultipleLines': 'Yes'}   \n",
       "2   {'PhoneService': 'Yes', 'MultipleLines': 'No'}   \n",
       "3   {'PhoneService': 'Yes', 'MultipleLines': 'No'}   \n",
       "4   {'PhoneService': 'Yes', 'MultipleLines': 'No'}   \n",
       "\n",
       "                                            internet  \\\n",
       "0  {'InternetService': 'DSL', 'OnlineSecurity': '...   \n",
       "1  {'InternetService': 'DSL', 'OnlineSecurity': '...   \n",
       "2  {'InternetService': 'Fiber optic', 'OnlineSecu...   \n",
       "3  {'InternetService': 'Fiber optic', 'OnlineSecu...   \n",
       "4  {'InternetService': 'Fiber optic', 'OnlineSecu...   \n",
       "\n",
       "                                             account  \n",
       "0  {'Contract': 'One year', 'PaperlessBilling': '...  \n",
       "1  {'Contract': 'Month-to-month', 'PaperlessBilli...  \n",
       "2  {'Contract': 'Month-to-month', 'PaperlessBilli...  \n",
       "3  {'Contract': 'Month-to-month', 'PaperlessBilli...  \n",
       "4  {'Contract': 'Month-to-month', 'PaperlessBilli...  "
      ]
     },
     "execution_count": 2,
     "metadata": {},
     "output_type": "execute_result"
    }
   ],
   "source": [
    "# Datos\n",
    "url = \"https://raw.githubusercontent.com/ingridcristh/challenge2-data-science-LATAM/refs/heads/main/TelecomX_Data.json\"\n",
    "\n",
    "# DataFrame\n",
    "df = pd.read_json(url)\n",
    "\n",
    "# Revisión\n",
    "df.head()"
   ]
  },
  {
   "cell_type": "code",
   "execution_count": 3,
   "id": "0e9ceb6c",
   "metadata": {},
   "outputs": [
    {
     "data": {
      "text/plain": [
       "Index(['customerID', 'Churn', 'customer', 'phone', 'internet', 'account'], dtype='object')"
      ]
     },
     "execution_count": 3,
     "metadata": {},
     "output_type": "execute_result"
    }
   ],
   "source": [
    "# Columnas del dataset\n",
    "df.columns"
   ]
  },
  {
   "cell_type": "code",
   "execution_count": 4,
   "id": "204191db",
   "metadata": {},
   "outputs": [
    {
     "name": "stdout",
     "output_type": "stream",
     "text": [
      "(7267, 5)\n",
      "(7267, 2)\n",
      "(7267, 7)\n",
      "(7267, 5)\n"
     ]
    },
    {
     "data": {
      "text/html": [
       "<div>\n",
       "<style scoped>\n",
       "    .dataframe tbody tr th:only-of-type {\n",
       "        vertical-align: middle;\n",
       "    }\n",
       "\n",
       "    .dataframe tbody tr th {\n",
       "        vertical-align: top;\n",
       "    }\n",
       "\n",
       "    .dataframe thead th {\n",
       "        text-align: right;\n",
       "    }\n",
       "</style>\n",
       "<table border=\"1\" class=\"dataframe\">\n",
       "  <thead>\n",
       "    <tr style=\"text-align: right;\">\n",
       "      <th></th>\n",
       "      <th>customerID</th>\n",
       "      <th>Churn</th>\n",
       "      <th>gender</th>\n",
       "      <th>SeniorCitizen</th>\n",
       "      <th>Partner</th>\n",
       "      <th>Dependents</th>\n",
       "      <th>tenure</th>\n",
       "      <th>PhoneService</th>\n",
       "      <th>MultipleLines</th>\n",
       "      <th>InternetService</th>\n",
       "      <th>...</th>\n",
       "      <th>OnlineBackup</th>\n",
       "      <th>DeviceProtection</th>\n",
       "      <th>TechSupport</th>\n",
       "      <th>StreamingTV</th>\n",
       "      <th>StreamingMovies</th>\n",
       "      <th>Contract</th>\n",
       "      <th>PaperlessBilling</th>\n",
       "      <th>PaymentMethod</th>\n",
       "      <th>Charges.Monthly</th>\n",
       "      <th>Charges.Total</th>\n",
       "    </tr>\n",
       "  </thead>\n",
       "  <tbody>\n",
       "    <tr>\n",
       "      <th>0</th>\n",
       "      <td>0002-ORFBO</td>\n",
       "      <td>No</td>\n",
       "      <td>Female</td>\n",
       "      <td>0</td>\n",
       "      <td>Yes</td>\n",
       "      <td>Yes</td>\n",
       "      <td>9</td>\n",
       "      <td>Yes</td>\n",
       "      <td>No</td>\n",
       "      <td>DSL</td>\n",
       "      <td>...</td>\n",
       "      <td>Yes</td>\n",
       "      <td>No</td>\n",
       "      <td>Yes</td>\n",
       "      <td>Yes</td>\n",
       "      <td>No</td>\n",
       "      <td>One year</td>\n",
       "      <td>Yes</td>\n",
       "      <td>Mailed check</td>\n",
       "      <td>65.6</td>\n",
       "      <td>593.3</td>\n",
       "    </tr>\n",
       "    <tr>\n",
       "      <th>1</th>\n",
       "      <td>0003-MKNFE</td>\n",
       "      <td>No</td>\n",
       "      <td>Male</td>\n",
       "      <td>0</td>\n",
       "      <td>No</td>\n",
       "      <td>No</td>\n",
       "      <td>9</td>\n",
       "      <td>Yes</td>\n",
       "      <td>Yes</td>\n",
       "      <td>DSL</td>\n",
       "      <td>...</td>\n",
       "      <td>No</td>\n",
       "      <td>No</td>\n",
       "      <td>No</td>\n",
       "      <td>No</td>\n",
       "      <td>Yes</td>\n",
       "      <td>Month-to-month</td>\n",
       "      <td>No</td>\n",
       "      <td>Mailed check</td>\n",
       "      <td>59.9</td>\n",
       "      <td>542.4</td>\n",
       "    </tr>\n",
       "    <tr>\n",
       "      <th>2</th>\n",
       "      <td>0004-TLHLJ</td>\n",
       "      <td>Yes</td>\n",
       "      <td>Male</td>\n",
       "      <td>0</td>\n",
       "      <td>No</td>\n",
       "      <td>No</td>\n",
       "      <td>4</td>\n",
       "      <td>Yes</td>\n",
       "      <td>No</td>\n",
       "      <td>Fiber optic</td>\n",
       "      <td>...</td>\n",
       "      <td>No</td>\n",
       "      <td>Yes</td>\n",
       "      <td>No</td>\n",
       "      <td>No</td>\n",
       "      <td>No</td>\n",
       "      <td>Month-to-month</td>\n",
       "      <td>Yes</td>\n",
       "      <td>Electronic check</td>\n",
       "      <td>73.9</td>\n",
       "      <td>280.85</td>\n",
       "    </tr>\n",
       "    <tr>\n",
       "      <th>3</th>\n",
       "      <td>0011-IGKFF</td>\n",
       "      <td>Yes</td>\n",
       "      <td>Male</td>\n",
       "      <td>1</td>\n",
       "      <td>Yes</td>\n",
       "      <td>No</td>\n",
       "      <td>13</td>\n",
       "      <td>Yes</td>\n",
       "      <td>No</td>\n",
       "      <td>Fiber optic</td>\n",
       "      <td>...</td>\n",
       "      <td>Yes</td>\n",
       "      <td>Yes</td>\n",
       "      <td>No</td>\n",
       "      <td>Yes</td>\n",
       "      <td>Yes</td>\n",
       "      <td>Month-to-month</td>\n",
       "      <td>Yes</td>\n",
       "      <td>Electronic check</td>\n",
       "      <td>98.0</td>\n",
       "      <td>1237.85</td>\n",
       "    </tr>\n",
       "    <tr>\n",
       "      <th>4</th>\n",
       "      <td>0013-EXCHZ</td>\n",
       "      <td>Yes</td>\n",
       "      <td>Female</td>\n",
       "      <td>1</td>\n",
       "      <td>Yes</td>\n",
       "      <td>No</td>\n",
       "      <td>3</td>\n",
       "      <td>Yes</td>\n",
       "      <td>No</td>\n",
       "      <td>Fiber optic</td>\n",
       "      <td>...</td>\n",
       "      <td>No</td>\n",
       "      <td>No</td>\n",
       "      <td>Yes</td>\n",
       "      <td>Yes</td>\n",
       "      <td>No</td>\n",
       "      <td>Month-to-month</td>\n",
       "      <td>Yes</td>\n",
       "      <td>Mailed check</td>\n",
       "      <td>83.9</td>\n",
       "      <td>267.4</td>\n",
       "    </tr>\n",
       "  </tbody>\n",
       "</table>\n",
       "<p>5 rows × 21 columns</p>\n",
       "</div>"
      ],
      "text/plain": [
       "   customerID Churn  gender  SeniorCitizen Partner Dependents  tenure  \\\n",
       "0  0002-ORFBO    No  Female              0     Yes        Yes       9   \n",
       "1  0003-MKNFE    No    Male              0      No         No       9   \n",
       "2  0004-TLHLJ   Yes    Male              0      No         No       4   \n",
       "3  0011-IGKFF   Yes    Male              1     Yes         No      13   \n",
       "4  0013-EXCHZ   Yes  Female              1     Yes         No       3   \n",
       "\n",
       "  PhoneService MultipleLines InternetService  ... OnlineBackup  \\\n",
       "0          Yes            No             DSL  ...          Yes   \n",
       "1          Yes           Yes             DSL  ...           No   \n",
       "2          Yes            No     Fiber optic  ...           No   \n",
       "3          Yes            No     Fiber optic  ...          Yes   \n",
       "4          Yes            No     Fiber optic  ...           No   \n",
       "\n",
       "  DeviceProtection TechSupport StreamingTV StreamingMovies        Contract  \\\n",
       "0               No         Yes         Yes              No        One year   \n",
       "1               No          No          No             Yes  Month-to-month   \n",
       "2              Yes          No          No              No  Month-to-month   \n",
       "3              Yes          No         Yes             Yes  Month-to-month   \n",
       "4               No         Yes         Yes              No  Month-to-month   \n",
       "\n",
       "  PaperlessBilling     PaymentMethod Charges.Monthly  Charges.Total  \n",
       "0              Yes      Mailed check            65.6          593.3  \n",
       "1               No      Mailed check            59.9          542.4  \n",
       "2              Yes  Electronic check            73.9         280.85  \n",
       "3              Yes  Electronic check            98.0        1237.85  \n",
       "4              Yes      Mailed check            83.9          267.4  \n",
       "\n",
       "[5 rows x 21 columns]"
      ]
     },
     "execution_count": 4,
     "metadata": {},
     "output_type": "execute_result"
    }
   ],
   "source": [
    "# Columnas no normalizadas\n",
    "normal = df.columns[2:]\n",
    "\n",
    "# Normalización y unión con el dataframe\n",
    "for i in range(len(normal)):\n",
    "    norm = pd.json_normalize(df[normal[i]])\n",
    "    print(norm.shape)\n",
    "    df.drop(normal[i], axis=1, inplace=True)\n",
    "    df = df.join(norm)\n",
    "\n",
    "# Revisión\n",
    "df.head()"
   ]
  },
  {
   "cell_type": "markdown",
   "id": "7fae4427",
   "metadata": {},
   "source": [
    "## Limpieza de datos"
   ]
  },
  {
   "cell_type": "markdown",
   "id": "7ebbeebe",
   "metadata": {},
   "source": [
    "### Conozca el conjunto de datos"
   ]
  },
  {
   "cell_type": "code",
   "execution_count": 5,
   "id": "e2b8c493",
   "metadata": {},
   "outputs": [
    {
     "data": {
      "text/plain": [
       "Index(['customerID', 'Churn', 'gender', 'SeniorCitizen', 'Partner',\n",
       "       'Dependents', 'tenure', 'PhoneService', 'MultipleLines',\n",
       "       'InternetService', 'OnlineSecurity', 'OnlineBackup', 'DeviceProtection',\n",
       "       'TechSupport', 'StreamingTV', 'StreamingMovies', 'Contract',\n",
       "       'PaperlessBilling', 'PaymentMethod', 'Charges.Monthly',\n",
       "       'Charges.Total'],\n",
       "      dtype='object')"
      ]
     },
     "execution_count": 5,
     "metadata": {},
     "output_type": "execute_result"
    }
   ],
   "source": [
    "# Columnas del dataset\n",
    "df.columns"
   ]
  },
  {
   "cell_type": "code",
   "execution_count": 6,
   "id": "bdc7a6be",
   "metadata": {},
   "outputs": [
    {
     "name": "stdout",
     "output_type": "stream",
     "text": [
      "<class 'pandas.core.frame.DataFrame'>\n",
      "RangeIndex: 7267 entries, 0 to 7266\n",
      "Data columns (total 21 columns):\n",
      " #   Column            Non-Null Count  Dtype  \n",
      "---  ------            --------------  -----  \n",
      " 0   customerID        7267 non-null   object \n",
      " 1   Churn             7267 non-null   object \n",
      " 2   gender            7267 non-null   object \n",
      " 3   SeniorCitizen     7267 non-null   int64  \n",
      " 4   Partner           7267 non-null   object \n",
      " 5   Dependents        7267 non-null   object \n",
      " 6   tenure            7267 non-null   int64  \n",
      " 7   PhoneService      7267 non-null   object \n",
      " 8   MultipleLines     7267 non-null   object \n",
      " 9   InternetService   7267 non-null   object \n",
      " 10  OnlineSecurity    7267 non-null   object \n",
      " 11  OnlineBackup      7267 non-null   object \n",
      " 12  DeviceProtection  7267 non-null   object \n",
      " 13  TechSupport       7267 non-null   object \n",
      " 14  StreamingTV       7267 non-null   object \n",
      " 15  StreamingMovies   7267 non-null   object \n",
      " 16  Contract          7267 non-null   object \n",
      " 17  PaperlessBilling  7267 non-null   object \n",
      " 18  PaymentMethod     7267 non-null   object \n",
      " 19  Charges.Monthly   7267 non-null   float64\n",
      " 20  Charges.Total     7267 non-null   object \n",
      "dtypes: float64(1), int64(2), object(18)\n",
      "memory usage: 1.2+ MB\n"
     ]
    }
   ],
   "source": [
    "# Tipos de datos del dataset\n",
    "df.info()"
   ]
  },
  {
   "cell_type": "markdown",
   "id": "79fb1de4",
   "metadata": {},
   "source": [
    "**Diccionario de datos**\n",
    "\n",
    "- `customerID`: número de identificación único de cada cliente\n",
    "- `Churn`: si el cliente dejó o no la empresa\n",
    "- `gender`: género (masculino y femenino)\n",
    "- `SeniorCitizen`: información sobre si un cliente tiene o no una edad igual o mayor a 65 años\n",
    "- `Partner`: si el cliente tiene o no una pareja\n",
    "- `Dependents`: si el cliente tiene o no dependientes\n",
    "- `tenure`: meses de contrato del cliente\n",
    "- `PhoneService`: suscripción al servicio telefónico\n",
    "- `MultipleLines`: suscripción a más de una línea telefónica\n",
    "- `InternetService`: suscripción a un proveedor de internet\n",
    "- `OnlineSecurity`: suscripción adicional de seguridad en línea\n",
    "- `OnlineBackup`: suscripción adicional de respaldo en línea\n",
    "- `DeviceProtection`: suscripción adicional de protección del dispositivo\n",
    "- `TechSupport`: suscripción adicional de soporte técnico, menor tiempo de espera\n",
    "- `StreamingTV`: suscripción de televisión por cable\n",
    "- `StreamingMovies`: suscripción de streaming de películas\n",
    "- `Contract`: tipo de contrato\n",
    "- `PaperlessBilling`: si el cliente prefiere recibir la factura en línea\n",
    "- `PaymentMethod`: forma de pago\n",
    "- `Charges.Monthly`: total de todos los servicios del cliente por mes\n",
    "- `Charges.Total`: total gastado por el cliente"
   ]
  },
  {
   "cell_type": "markdown",
   "id": "86287162",
   "metadata": {},
   "source": [
    "**Columnas más relevantes para el análisis:**\n",
    "1. `customerID`: Esta columna es para identificar al cliente de forma unica\n",
    "2. `Churn`: Es la que nos indica si el cliente abandono o no\n",
    "3. `ternure`: Nos dice por cuanto tiempo el cliente estuvo en la empresa\n",
    "4. `PhoneService`: Columna para conocer las preferencias del cliente\n",
    "5. `InternetService`: Columna para conocer las preferencias del cliente\n",
    "6. `TechSupport`: Columna para conocer las preferencias del cliente\n",
    "7. `StreamingTV`: Columna para conocer las preferencias del cliente\n",
    "8. `StreamingMovies`: Columna para conocer las preferencias del cliente\n",
    "9. `Contract`: El tipo de contrato que tiene el cliente\n",
    "10. `Charges.Monthly`: Total de los servicios del cliente, para conocer su facturación\n",
    "11. `Charges.Total`: Todo lo que gastó el cliente en los servicios"
   ]
  },
  {
   "cell_type": "markdown",
   "id": "7c654ecd",
   "metadata": {},
   "source": [
    "### Comprobación de incoherencias en los datos"
   ]
  },
  {
   "cell_type": "code",
   "execution_count": 7,
   "id": "84f47e04",
   "metadata": {},
   "outputs": [
    {
     "data": {
      "text/plain": [
       "np.int64(0)"
      ]
     },
     "execution_count": 7,
     "metadata": {},
     "output_type": "execute_result"
    }
   ],
   "source": [
    "# Revisión de datos duplicados\n",
    "df.duplicated().sum()"
   ]
  },
  {
   "cell_type": "code",
   "execution_count": 8,
   "id": "5b7a60a8",
   "metadata": {},
   "outputs": [
    {
     "name": "stdout",
     "output_type": "stream",
     "text": [
      "<class 'pandas.core.frame.DataFrame'>\n",
      "RangeIndex: 7267 entries, 0 to 7266\n",
      "Data columns (total 21 columns):\n",
      " #   Column            Non-Null Count  Dtype  \n",
      "---  ------            --------------  -----  \n",
      " 0   customerID        7267 non-null   object \n",
      " 1   Churn             7267 non-null   object \n",
      " 2   gender            7267 non-null   object \n",
      " 3   SeniorCitizen     7267 non-null   int64  \n",
      " 4   Partner           7267 non-null   object \n",
      " 5   Dependents        7267 non-null   object \n",
      " 6   tenure            7267 non-null   int64  \n",
      " 7   PhoneService      7267 non-null   object \n",
      " 8   MultipleLines     7267 non-null   object \n",
      " 9   InternetService   7267 non-null   object \n",
      " 10  OnlineSecurity    7267 non-null   object \n",
      " 11  OnlineBackup      7267 non-null   object \n",
      " 12  DeviceProtection  7267 non-null   object \n",
      " 13  TechSupport       7267 non-null   object \n",
      " 14  StreamingTV       7267 non-null   object \n",
      " 15  StreamingMovies   7267 non-null   object \n",
      " 16  Contract          7267 non-null   object \n",
      " 17  PaperlessBilling  7267 non-null   object \n",
      " 18  PaymentMethod     7267 non-null   object \n",
      " 19  Charges.Monthly   7267 non-null   float64\n",
      " 20  Charges.Total     7267 non-null   object \n",
      "dtypes: float64(1), int64(2), object(18)\n",
      "memory usage: 1.2+ MB\n"
     ]
    }
   ],
   "source": [
    "# Revisión de datos nulos y de tipo de datos\n",
    "df.info()"
   ]
  },
  {
   "cell_type": "code",
   "execution_count": 9,
   "id": "de27013b",
   "metadata": {},
   "outputs": [
    {
     "data": {
      "text/html": [
       "<div>\n",
       "<style scoped>\n",
       "    .dataframe tbody tr th:only-of-type {\n",
       "        vertical-align: middle;\n",
       "    }\n",
       "\n",
       "    .dataframe tbody tr th {\n",
       "        vertical-align: top;\n",
       "    }\n",
       "\n",
       "    .dataframe thead th {\n",
       "        text-align: right;\n",
       "    }\n",
       "</style>\n",
       "<table border=\"1\" class=\"dataframe\">\n",
       "  <thead>\n",
       "    <tr style=\"text-align: right;\">\n",
       "      <th></th>\n",
       "      <th>customerID</th>\n",
       "      <th>Churn</th>\n",
       "      <th>gender</th>\n",
       "      <th>Partner</th>\n",
       "      <th>Dependents</th>\n",
       "      <th>PhoneService</th>\n",
       "      <th>MultipleLines</th>\n",
       "      <th>InternetService</th>\n",
       "      <th>OnlineSecurity</th>\n",
       "      <th>OnlineBackup</th>\n",
       "      <th>DeviceProtection</th>\n",
       "      <th>TechSupport</th>\n",
       "      <th>StreamingTV</th>\n",
       "      <th>StreamingMovies</th>\n",
       "      <th>Contract</th>\n",
       "      <th>PaperlessBilling</th>\n",
       "      <th>PaymentMethod</th>\n",
       "      <th>Charges.Total</th>\n",
       "    </tr>\n",
       "  </thead>\n",
       "  <tbody>\n",
       "    <tr>\n",
       "      <th>count</th>\n",
       "      <td>7267</td>\n",
       "      <td>7267</td>\n",
       "      <td>7267</td>\n",
       "      <td>7267</td>\n",
       "      <td>7267</td>\n",
       "      <td>7267</td>\n",
       "      <td>7267</td>\n",
       "      <td>7267</td>\n",
       "      <td>7267</td>\n",
       "      <td>7267</td>\n",
       "      <td>7267</td>\n",
       "      <td>7267</td>\n",
       "      <td>7267</td>\n",
       "      <td>7267</td>\n",
       "      <td>7267</td>\n",
       "      <td>7267</td>\n",
       "      <td>7267</td>\n",
       "      <td>7267</td>\n",
       "    </tr>\n",
       "    <tr>\n",
       "      <th>unique</th>\n",
       "      <td>7267</td>\n",
       "      <td>3</td>\n",
       "      <td>2</td>\n",
       "      <td>2</td>\n",
       "      <td>2</td>\n",
       "      <td>2</td>\n",
       "      <td>3</td>\n",
       "      <td>3</td>\n",
       "      <td>3</td>\n",
       "      <td>3</td>\n",
       "      <td>3</td>\n",
       "      <td>3</td>\n",
       "      <td>3</td>\n",
       "      <td>3</td>\n",
       "      <td>3</td>\n",
       "      <td>2</td>\n",
       "      <td>4</td>\n",
       "      <td>6531</td>\n",
       "    </tr>\n",
       "    <tr>\n",
       "      <th>top</th>\n",
       "      <td>9995-HOTOH</td>\n",
       "      <td>No</td>\n",
       "      <td>Male</td>\n",
       "      <td>No</td>\n",
       "      <td>No</td>\n",
       "      <td>Yes</td>\n",
       "      <td>No</td>\n",
       "      <td>Fiber optic</td>\n",
       "      <td>No</td>\n",
       "      <td>No</td>\n",
       "      <td>No</td>\n",
       "      <td>No</td>\n",
       "      <td>No</td>\n",
       "      <td>No</td>\n",
       "      <td>Month-to-month</td>\n",
       "      <td>Yes</td>\n",
       "      <td>Electronic check</td>\n",
       "      <td>20.2</td>\n",
       "    </tr>\n",
       "    <tr>\n",
       "      <th>freq</th>\n",
       "      <td>1</td>\n",
       "      <td>5174</td>\n",
       "      <td>3675</td>\n",
       "      <td>3749</td>\n",
       "      <td>5086</td>\n",
       "      <td>6560</td>\n",
       "      <td>3495</td>\n",
       "      <td>3198</td>\n",
       "      <td>3608</td>\n",
       "      <td>3182</td>\n",
       "      <td>3195</td>\n",
       "      <td>3582</td>\n",
       "      <td>2896</td>\n",
       "      <td>2870</td>\n",
       "      <td>4005</td>\n",
       "      <td>4311</td>\n",
       "      <td>2445</td>\n",
       "      <td>11</td>\n",
       "    </tr>\n",
       "  </tbody>\n",
       "</table>\n",
       "</div>"
      ],
      "text/plain": [
       "        customerID Churn gender Partner Dependents PhoneService MultipleLines  \\\n",
       "count         7267  7267   7267    7267       7267         7267          7267   \n",
       "unique        7267     3      2       2          2            2             3   \n",
       "top     9995-HOTOH    No   Male      No         No          Yes            No   \n",
       "freq             1  5174   3675    3749       5086         6560          3495   \n",
       "\n",
       "       InternetService OnlineSecurity OnlineBackup DeviceProtection  \\\n",
       "count             7267           7267         7267             7267   \n",
       "unique               3              3            3                3   \n",
       "top        Fiber optic             No           No               No   \n",
       "freq              3198           3608         3182             3195   \n",
       "\n",
       "       TechSupport StreamingTV StreamingMovies        Contract  \\\n",
       "count         7267        7267            7267            7267   \n",
       "unique           3           3               3               3   \n",
       "top             No          No              No  Month-to-month   \n",
       "freq          3582        2896            2870            4005   \n",
       "\n",
       "       PaperlessBilling     PaymentMethod Charges.Total  \n",
       "count              7267              7267          7267  \n",
       "unique                2                 4          6531  \n",
       "top                 Yes  Electronic check          20.2  \n",
       "freq               4311              2445            11  "
      ]
     },
     "execution_count": 9,
     "metadata": {},
     "output_type": "execute_result"
    }
   ],
   "source": [
    "# Estadísticas de datos categóricos\n",
    "df.describe(include=[\"O\"])"
   ]
  },
  {
   "cell_type": "code",
   "execution_count": 10,
   "id": "7b11982b",
   "metadata": {},
   "outputs": [
    {
     "data": {
      "text/plain": [
       "Churn\n",
       "No     5174\n",
       "Yes    1869\n",
       "        224\n",
       "Name: count, dtype: int64"
      ]
     },
     "execution_count": 10,
     "metadata": {},
     "output_type": "execute_result"
    }
   ],
   "source": [
    "# Revisión de columnas importantes\n",
    "df[\"Churn\"].value_counts()"
   ]
  },
  {
   "cell_type": "code",
   "execution_count": 11,
   "id": "aadedf19",
   "metadata": {},
   "outputs": [
    {
     "data": {
      "text/plain": [
       "InternetService\n",
       "Fiber optic    3198\n",
       "DSL            2488\n",
       "No             1581\n",
       "Name: count, dtype: int64"
      ]
     },
     "execution_count": 11,
     "metadata": {},
     "output_type": "execute_result"
    }
   ],
   "source": [
    "df[\"InternetService\"].value_counts()"
   ]
  },
  {
   "cell_type": "code",
   "execution_count": 12,
   "id": "26a9a204",
   "metadata": {},
   "outputs": [
    {
     "data": {
      "text/plain": [
       "TechSupport\n",
       "No                     3582\n",
       "Yes                    2104\n",
       "No internet service    1581\n",
       "Name: count, dtype: int64"
      ]
     },
     "execution_count": 12,
     "metadata": {},
     "output_type": "execute_result"
    }
   ],
   "source": [
    "df[\"TechSupport\"].value_counts()"
   ]
  },
  {
   "cell_type": "code",
   "execution_count": 13,
   "id": "5e22a7a8",
   "metadata": {},
   "outputs": [
    {
     "data": {
      "text/plain": [
       "StreamingTV\n",
       "No                     2896\n",
       "Yes                    2790\n",
       "No internet service    1581\n",
       "Name: count, dtype: int64"
      ]
     },
     "execution_count": 13,
     "metadata": {},
     "output_type": "execute_result"
    }
   ],
   "source": [
    "df[\"StreamingTV\"].value_counts()"
   ]
  },
  {
   "cell_type": "code",
   "execution_count": 14,
   "id": "8e1472af",
   "metadata": {},
   "outputs": [
    {
     "data": {
      "text/plain": [
       "StreamingMovies\n",
       "No                     2870\n",
       "Yes                    2816\n",
       "No internet service    1581\n",
       "Name: count, dtype: int64"
      ]
     },
     "execution_count": 14,
     "metadata": {},
     "output_type": "execute_result"
    }
   ],
   "source": [
    "df[\"StreamingMovies\"].value_counts()"
   ]
  },
  {
   "cell_type": "code",
   "execution_count": 15,
   "id": "02203a2a",
   "metadata": {},
   "outputs": [
    {
     "data": {
      "text/plain": [
       "Contract\n",
       "Month-to-month    4005\n",
       "Two year          1743\n",
       "One year          1519\n",
       "Name: count, dtype: int64"
      ]
     },
     "execution_count": 15,
     "metadata": {},
     "output_type": "execute_result"
    }
   ],
   "source": [
    "df[\"Contract\"].value_counts()"
   ]
  },
  {
   "cell_type": "code",
   "execution_count": 16,
   "id": "b651cce4",
   "metadata": {},
   "outputs": [
    {
     "data": {
      "text/plain": [
       "0      593.3\n",
       "1      542.4\n",
       "2     280.85\n",
       "3    1237.85\n",
       "4      267.4\n",
       "Name: Charges.Total, dtype: object"
      ]
     },
     "execution_count": 16,
     "metadata": {},
     "output_type": "execute_result"
    }
   ],
   "source": [
    "df[\"Charges.Total\"].head()"
   ]
  },
  {
   "cell_type": "code",
   "execution_count": 17,
   "id": "6f2cab47",
   "metadata": {},
   "outputs": [
    {
     "data": {
      "text/html": [
       "<div>\n",
       "<style scoped>\n",
       "    .dataframe tbody tr th:only-of-type {\n",
       "        vertical-align: middle;\n",
       "    }\n",
       "\n",
       "    .dataframe tbody tr th {\n",
       "        vertical-align: top;\n",
       "    }\n",
       "\n",
       "    .dataframe thead th {\n",
       "        text-align: right;\n",
       "    }\n",
       "</style>\n",
       "<table border=\"1\" class=\"dataframe\">\n",
       "  <thead>\n",
       "    <tr style=\"text-align: right;\">\n",
       "      <th></th>\n",
       "      <th>tenure</th>\n",
       "      <th>Charges.Monthly</th>\n",
       "    </tr>\n",
       "  </thead>\n",
       "  <tbody>\n",
       "    <tr>\n",
       "      <th>count</th>\n",
       "      <td>7267.000000</td>\n",
       "      <td>7267.000000</td>\n",
       "    </tr>\n",
       "    <tr>\n",
       "      <th>mean</th>\n",
       "      <td>32.346498</td>\n",
       "      <td>64.720098</td>\n",
       "    </tr>\n",
       "    <tr>\n",
       "      <th>std</th>\n",
       "      <td>24.571773</td>\n",
       "      <td>30.129572</td>\n",
       "    </tr>\n",
       "    <tr>\n",
       "      <th>min</th>\n",
       "      <td>0.000000</td>\n",
       "      <td>18.250000</td>\n",
       "    </tr>\n",
       "    <tr>\n",
       "      <th>25%</th>\n",
       "      <td>9.000000</td>\n",
       "      <td>35.425000</td>\n",
       "    </tr>\n",
       "    <tr>\n",
       "      <th>50%</th>\n",
       "      <td>29.000000</td>\n",
       "      <td>70.300000</td>\n",
       "    </tr>\n",
       "    <tr>\n",
       "      <th>75%</th>\n",
       "      <td>55.000000</td>\n",
       "      <td>89.875000</td>\n",
       "    </tr>\n",
       "    <tr>\n",
       "      <th>max</th>\n",
       "      <td>72.000000</td>\n",
       "      <td>118.750000</td>\n",
       "    </tr>\n",
       "  </tbody>\n",
       "</table>\n",
       "</div>"
      ],
      "text/plain": [
       "            tenure  Charges.Monthly\n",
       "count  7267.000000      7267.000000\n",
       "mean     32.346498        64.720098\n",
       "std      24.571773        30.129572\n",
       "min       0.000000        18.250000\n",
       "25%       9.000000        35.425000\n",
       "50%      29.000000        70.300000\n",
       "75%      55.000000        89.875000\n",
       "max      72.000000       118.750000"
      ]
     },
     "execution_count": 17,
     "metadata": {},
     "output_type": "execute_result"
    }
   ],
   "source": [
    "df[[\"tenure\", \"Charges.Monthly\"]].describe()"
   ]
  },
  {
   "cell_type": "markdown",
   "id": "28b289b4",
   "metadata": {},
   "source": [
    "### Manejo de inconsistencias"
   ]
  },
  {
   "cell_type": "code",
   "execution_count": 18,
   "id": "2868a07a",
   "metadata": {},
   "outputs": [
    {
     "name": "stdout",
     "output_type": "stream",
     "text": [
      "0    No\n",
      "Name: Churn, dtype: object\n"
     ]
    },
    {
     "data": {
      "text/plain": [
       "Churn\n",
       "No     5398\n",
       "Yes    1869\n",
       "Name: count, dtype: int64"
      ]
     },
     "execution_count": 18,
     "metadata": {},
     "output_type": "execute_result"
    }
   ],
   "source": [
    "# Reemplazo de datos inconsistentes con la moda\n",
    "print(df[\"Churn\"].mode())\n",
    "df[\"Churn\"] = df[\"Churn\"].apply(lambda x: \"No\" if (x != \"Yes\") & (x != \"No\") else x)\n",
    "df[\"Churn\"].value_counts()"
   ]
  },
  {
   "cell_type": "code",
   "execution_count": 19,
   "id": "37412b31",
   "metadata": {},
   "outputs": [
    {
     "data": {
      "text/plain": [
       "0     593.30\n",
       "1     542.40\n",
       "2     280.85\n",
       "3    1237.85\n",
       "4     267.40\n",
       "Name: Charges.Total, dtype: float64"
      ]
     },
     "execution_count": 19,
     "metadata": {},
     "output_type": "execute_result"
    }
   ],
   "source": [
    "# Convertir columna categórica a numérica\n",
    "df[\"Charges.Total\"] = df[\"Charges.Total\"].str.strip().replace(\"\", \"0\")\n",
    "df[\"Charges.Total\"] = df[\"Charges.Total\"].astype(np.float64)\n",
    "df[\"Charges.Total\"].head()"
   ]
  },
  {
   "cell_type": "code",
   "execution_count": 20,
   "id": "df3ec0f5",
   "metadata": {},
   "outputs": [
    {
     "data": {
      "text/html": [
       "<div>\n",
       "<style scoped>\n",
       "    .dataframe tbody tr th:only-of-type {\n",
       "        vertical-align: middle;\n",
       "    }\n",
       "\n",
       "    .dataframe tbody tr th {\n",
       "        vertical-align: top;\n",
       "    }\n",
       "\n",
       "    .dataframe thead th {\n",
       "        text-align: right;\n",
       "    }\n",
       "</style>\n",
       "<table border=\"1\" class=\"dataframe\">\n",
       "  <thead>\n",
       "    <tr style=\"text-align: right;\">\n",
       "      <th></th>\n",
       "      <th>tenure</th>\n",
       "      <th>Charges.Monthly</th>\n",
       "      <th>Charges.Total</th>\n",
       "    </tr>\n",
       "  </thead>\n",
       "  <tbody>\n",
       "    <tr>\n",
       "      <th>count</th>\n",
       "      <td>7267.000000</td>\n",
       "      <td>7267.000000</td>\n",
       "      <td>7267.000000</td>\n",
       "    </tr>\n",
       "    <tr>\n",
       "      <th>mean</th>\n",
       "      <td>32.346498</td>\n",
       "      <td>64.720098</td>\n",
       "      <td>2277.182035</td>\n",
       "    </tr>\n",
       "    <tr>\n",
       "      <th>std</th>\n",
       "      <td>24.571773</td>\n",
       "      <td>30.129572</td>\n",
       "      <td>2268.648587</td>\n",
       "    </tr>\n",
       "    <tr>\n",
       "      <th>min</th>\n",
       "      <td>0.000000</td>\n",
       "      <td>18.250000</td>\n",
       "      <td>0.000000</td>\n",
       "    </tr>\n",
       "    <tr>\n",
       "      <th>25%</th>\n",
       "      <td>9.000000</td>\n",
       "      <td>35.425000</td>\n",
       "      <td>396.200000</td>\n",
       "    </tr>\n",
       "    <tr>\n",
       "      <th>50%</th>\n",
       "      <td>29.000000</td>\n",
       "      <td>70.300000</td>\n",
       "      <td>1389.200000</td>\n",
       "    </tr>\n",
       "    <tr>\n",
       "      <th>75%</th>\n",
       "      <td>55.000000</td>\n",
       "      <td>89.875000</td>\n",
       "      <td>3778.525000</td>\n",
       "    </tr>\n",
       "    <tr>\n",
       "      <th>max</th>\n",
       "      <td>72.000000</td>\n",
       "      <td>118.750000</td>\n",
       "      <td>8684.800000</td>\n",
       "    </tr>\n",
       "  </tbody>\n",
       "</table>\n",
       "</div>"
      ],
      "text/plain": [
       "            tenure  Charges.Monthly  Charges.Total\n",
       "count  7267.000000      7267.000000    7267.000000\n",
       "mean     32.346498        64.720098    2277.182035\n",
       "std      24.571773        30.129572    2268.648587\n",
       "min       0.000000        18.250000       0.000000\n",
       "25%       9.000000        35.425000     396.200000\n",
       "50%      29.000000        70.300000    1389.200000\n",
       "75%      55.000000        89.875000    3778.525000\n",
       "max      72.000000       118.750000    8684.800000"
      ]
     },
     "execution_count": 20,
     "metadata": {},
     "output_type": "execute_result"
    }
   ],
   "source": [
    "df[[\"tenure\", \"Charges.Monthly\", \"Charges.Total\"]].describe()"
   ]
  },
  {
   "cell_type": "code",
   "execution_count": 21,
   "id": "7e7c5189",
   "metadata": {},
   "outputs": [
    {
     "name": "stdout",
     "output_type": "stream",
     "text": [
      "Kurtosis de columnas numéricas importantes el dataset (para identificar atípicos)\n",
      "Columna tenure: -1.3889808474365166\n",
      "Columna Charges.Monthly: -1.2615115235678378\n",
      "Columna Charges.Total: -0.22733025208576452\n"
     ]
    }
   ],
   "source": [
    "num_col = [\"tenure\", \"Charges.Monthly\", \"Charges.Total\"]\n",
    "\n",
    "print(\"Kurtosis de columnas numéricas importantes el dataset (para identificar atípicos)\")\n",
    "\n",
    "for i in num_col:\n",
    "    print(f\"Columna {i}: {df[i].kurtosis()}\")"
   ]
  },
  {
   "cell_type": "code",
   "execution_count": 22,
   "id": "7e59e0b4",
   "metadata": {},
   "outputs": [
    {
     "data": {
      "image/png": "[encoded data removed]",
      "text/plain": [
       "<Figure size 1000x1000 with 3 Axes>"
      ]
     },
     "metadata": {},
     "output_type": "display_data"
    }
   ],
   "source": [
    "fig, ax = plt.subplots(3, 1, figsize=(10, 10))\n",
    "fig.suptitle(\"Distribución e identificación de datos atípicos en las columnas meses de contrato, carga mensual y carga total\")\n",
    "for i in range(len(num_col)):\n",
    "    ax[i].boxplot(df[num_col[i]])\n",
    "    ax[i].set_title(num_col[i])\n",
    "    ax[i].xaxis.set_visible(False)"
   ]
  },
  {
   "cell_type": "markdown",
   "id": "9695c806",
   "metadata": {},
   "source": [
    "### Columna de cuentas diarias"
   ]
  },
  {
   "cell_type": "code",
   "execution_count": 23,
   "id": "8a61458a",
   "metadata": {},
   "outputs": [
    {
     "data": {
      "text/plain": [
       "0    2.186667\n",
       "1    1.996667\n",
       "2    2.463333\n",
       "3    3.266667\n",
       "4    2.796667\n",
       "Name: Cuentas_Diarias, dtype: float64"
      ]
     },
     "execution_count": 23,
     "metadata": {},
     "output_type": "execute_result"
    }
   ],
   "source": [
    "df[\"Cuentas_Diarias\"] = df[\"Charges.Monthly\"]/30\n",
    "df[\"Cuentas_Diarias\"].head(5)"
   ]
  },
  {
   "cell_type": "markdown",
   "id": "7c0bf9fb",
   "metadata": {},
   "source": [
    "### Estandarización y transformación de datos"
   ]
  },
  {
   "cell_type": "code",
   "execution_count": 24,
   "id": "fa134fc4",
   "metadata": {},
   "outputs": [
    {
     "data": {
      "text/html": [
       "<div>\n",
       "<style scoped>\n",
       "    .dataframe tbody tr th:only-of-type {\n",
       "        vertical-align: middle;\n",
       "    }\n",
       "\n",
       "    .dataframe tbody tr th {\n",
       "        vertical-align: top;\n",
       "    }\n",
       "\n",
       "    .dataframe thead th {\n",
       "        text-align: right;\n",
       "    }\n",
       "</style>\n",
       "<table border=\"1\" class=\"dataframe\">\n",
       "  <thead>\n",
       "    <tr style=\"text-align: right;\">\n",
       "      <th></th>\n",
       "      <th>customerID</th>\n",
       "      <th>Churn</th>\n",
       "      <th>tenure</th>\n",
       "      <th>PhoneService</th>\n",
       "      <th>InternetService</th>\n",
       "      <th>TechSupport</th>\n",
       "      <th>StreamingTV</th>\n",
       "      <th>StreamingMovies</th>\n",
       "      <th>Contract</th>\n",
       "      <th>Charges.Monthly</th>\n",
       "      <th>Charges.Total</th>\n",
       "      <th>Cuentas_Diarias</th>\n",
       "    </tr>\n",
       "  </thead>\n",
       "  <tbody>\n",
       "    <tr>\n",
       "      <th>0</th>\n",
       "      <td>0002-ORFBO</td>\n",
       "      <td>No</td>\n",
       "      <td>9</td>\n",
       "      <td>Yes</td>\n",
       "      <td>DSL</td>\n",
       "      <td>Yes</td>\n",
       "      <td>Yes</td>\n",
       "      <td>No</td>\n",
       "      <td>One year</td>\n",
       "      <td>65.6</td>\n",
       "      <td>593.30</td>\n",
       "      <td>2.186667</td>\n",
       "    </tr>\n",
       "    <tr>\n",
       "      <th>1</th>\n",
       "      <td>0003-MKNFE</td>\n",
       "      <td>No</td>\n",
       "      <td>9</td>\n",
       "      <td>Yes</td>\n",
       "      <td>DSL</td>\n",
       "      <td>No</td>\n",
       "      <td>No</td>\n",
       "      <td>Yes</td>\n",
       "      <td>Month-to-month</td>\n",
       "      <td>59.9</td>\n",
       "      <td>542.40</td>\n",
       "      <td>1.996667</td>\n",
       "    </tr>\n",
       "    <tr>\n",
       "      <th>2</th>\n",
       "      <td>0004-TLHLJ</td>\n",
       "      <td>Yes</td>\n",
       "      <td>4</td>\n",
       "      <td>Yes</td>\n",
       "      <td>Fiber optic</td>\n",
       "      <td>No</td>\n",
       "      <td>No</td>\n",
       "      <td>No</td>\n",
       "      <td>Month-to-month</td>\n",
       "      <td>73.9</td>\n",
       "      <td>280.85</td>\n",
       "      <td>2.463333</td>\n",
       "    </tr>\n",
       "    <tr>\n",
       "      <th>3</th>\n",
       "      <td>0011-IGKFF</td>\n",
       "      <td>Yes</td>\n",
       "      <td>13</td>\n",
       "      <td>Yes</td>\n",
       "      <td>Fiber optic</td>\n",
       "      <td>No</td>\n",
       "      <td>Yes</td>\n",
       "      <td>Yes</td>\n",
       "      <td>Month-to-month</td>\n",
       "      <td>98.0</td>\n",
       "      <td>1237.85</td>\n",
       "      <td>3.266667</td>\n",
       "    </tr>\n",
       "    <tr>\n",
       "      <th>4</th>\n",
       "      <td>0013-EXCHZ</td>\n",
       "      <td>Yes</td>\n",
       "      <td>3</td>\n",
       "      <td>Yes</td>\n",
       "      <td>Fiber optic</td>\n",
       "      <td>Yes</td>\n",
       "      <td>Yes</td>\n",
       "      <td>No</td>\n",
       "      <td>Month-to-month</td>\n",
       "      <td>83.9</td>\n",
       "      <td>267.40</td>\n",
       "      <td>2.796667</td>\n",
       "    </tr>\n",
       "  </tbody>\n",
       "</table>\n",
       "</div>"
      ],
      "text/plain": [
       "   customerID Churn  tenure PhoneService InternetService TechSupport  \\\n",
       "0  0002-ORFBO    No       9          Yes             DSL         Yes   \n",
       "1  0003-MKNFE    No       9          Yes             DSL          No   \n",
       "2  0004-TLHLJ   Yes       4          Yes     Fiber optic          No   \n",
       "3  0011-IGKFF   Yes      13          Yes     Fiber optic          No   \n",
       "4  0013-EXCHZ   Yes       3          Yes     Fiber optic         Yes   \n",
       "\n",
       "  StreamingTV StreamingMovies        Contract  Charges.Monthly  Charges.Total  \\\n",
       "0         Yes              No        One year             65.6         593.30   \n",
       "1          No             Yes  Month-to-month             59.9         542.40   \n",
       "2          No              No  Month-to-month             73.9         280.85   \n",
       "3         Yes             Yes  Month-to-month             98.0        1237.85   \n",
       "4         Yes              No  Month-to-month             83.9         267.40   \n",
       "\n",
       "   Cuentas_Diarias  \n",
       "0         2.186667  \n",
       "1         1.996667  \n",
       "2         2.463333  \n",
       "3         3.266667  \n",
       "4         2.796667  "
      ]
     },
     "execution_count": 24,
     "metadata": {},
     "output_type": "execute_result"
    }
   ],
   "source": [
    "moreImportants = [\"customerID\", \"Churn\", \"tenure\", \"PhoneService\", \"InternetService\", \"TechSupport\", \"StreamingTV\", \"StreamingMovies\", \n",
    "                  \"Contract\", \"Charges.Monthly\", \"Charges.Total\", \"Cuentas_Diarias\"]\n",
    "\n",
    "df[moreImportants].head()"
   ]
  },
  {
   "cell_type": "code",
   "execution_count": 25,
   "id": "a62f366c",
   "metadata": {},
   "outputs": [],
   "source": [
    "df[[\"Churn\", \"PhoneService\"]] = df[[\"Churn\", \"PhoneService\"]].map(lambda x: 0 if x == \"No\" else 1)"
   ]
  },
  {
   "cell_type": "markdown",
   "id": "0d661ffa",
   "metadata": {},
   "source": [
    "## Análisis Exploratorio"
   ]
  },
  {
   "cell_type": "markdown",
   "id": "7c1eafe2",
   "metadata": {},
   "source": [
    "### Análisis Descriptivo"
   ]
  },
  {
   "cell_type": "code",
   "execution_count": 26,
   "id": "fa5f97be",
   "metadata": {},
   "outputs": [
    {
     "data": {
      "text/html": [
       "<div>\n",
       "<style scoped>\n",
       "    .dataframe tbody tr th:only-of-type {\n",
       "        vertical-align: middle;\n",
       "    }\n",
       "\n",
       "    .dataframe tbody tr th {\n",
       "        vertical-align: top;\n",
       "    }\n",
       "\n",
       "    .dataframe thead th {\n",
       "        text-align: right;\n",
       "    }\n",
       "</style>\n",
       "<table border=\"1\" class=\"dataframe\">\n",
       "  <thead>\n",
       "    <tr style=\"text-align: right;\">\n",
       "      <th></th>\n",
       "      <th>customerID</th>\n",
       "      <th>InternetService</th>\n",
       "      <th>TechSupport</th>\n",
       "      <th>StreamingTV</th>\n",
       "      <th>StreamingMovies</th>\n",
       "      <th>Contract</th>\n",
       "    </tr>\n",
       "  </thead>\n",
       "  <tbody>\n",
       "    <tr>\n",
       "      <th>count</th>\n",
       "      <td>7267</td>\n",
       "      <td>7267</td>\n",
       "      <td>7267</td>\n",
       "      <td>7267</td>\n",
       "      <td>7267</td>\n",
       "      <td>7267</td>\n",
       "    </tr>\n",
       "    <tr>\n",
       "      <th>unique</th>\n",
       "      <td>7267</td>\n",
       "      <td>3</td>\n",
       "      <td>3</td>\n",
       "      <td>3</td>\n",
       "      <td>3</td>\n",
       "      <td>3</td>\n",
       "    </tr>\n",
       "    <tr>\n",
       "      <th>top</th>\n",
       "      <td>9995-HOTOH</td>\n",
       "      <td>Fiber optic</td>\n",
       "      <td>No</td>\n",
       "      <td>No</td>\n",
       "      <td>No</td>\n",
       "      <td>Month-to-month</td>\n",
       "    </tr>\n",
       "    <tr>\n",
       "      <th>freq</th>\n",
       "      <td>1</td>\n",
       "      <td>3198</td>\n",
       "      <td>3582</td>\n",
       "      <td>2896</td>\n",
       "      <td>2870</td>\n",
       "      <td>4005</td>\n",
       "    </tr>\n",
       "  </tbody>\n",
       "</table>\n",
       "</div>"
      ],
      "text/plain": [
       "        customerID InternetService TechSupport StreamingTV StreamingMovies  \\\n",
       "count         7267            7267        7267        7267            7267   \n",
       "unique        7267               3           3           3               3   \n",
       "top     9995-HOTOH     Fiber optic          No          No              No   \n",
       "freq             1            3198        3582        2896            2870   \n",
       "\n",
       "              Contract  \n",
       "count             7267  \n",
       "unique               3  \n",
       "top     Month-to-month  \n",
       "freq              4005  "
      ]
     },
     "execution_count": 26,
     "metadata": {},
     "output_type": "execute_result"
    }
   ],
   "source": [
    "df[moreImportants].describe(include=[\"O\"])"
   ]
  },
  {
   "cell_type": "code",
   "execution_count": 27,
   "id": "eefd5d45",
   "metadata": {},
   "outputs": [
    {
     "data": {
      "text/html": [
       "<div>\n",
       "<style scoped>\n",
       "    .dataframe tbody tr th:only-of-type {\n",
       "        vertical-align: middle;\n",
       "    }\n",
       "\n",
       "    .dataframe tbody tr th {\n",
       "        vertical-align: top;\n",
       "    }\n",
       "\n",
       "    .dataframe thead th {\n",
       "        text-align: right;\n",
       "    }\n",
       "</style>\n",
       "<table border=\"1\" class=\"dataframe\">\n",
       "  <thead>\n",
       "    <tr style=\"text-align: right;\">\n",
       "      <th></th>\n",
       "      <th>Churn</th>\n",
       "      <th>tenure</th>\n",
       "      <th>PhoneService</th>\n",
       "      <th>Charges.Monthly</th>\n",
       "      <th>Charges.Total</th>\n",
       "      <th>Cuentas_Diarias</th>\n",
       "    </tr>\n",
       "  </thead>\n",
       "  <tbody>\n",
       "    <tr>\n",
       "      <th>count</th>\n",
       "      <td>7267.000000</td>\n",
       "      <td>7267.000000</td>\n",
       "      <td>7267.000000</td>\n",
       "      <td>7267.000000</td>\n",
       "      <td>7267.000000</td>\n",
       "      <td>7267.000000</td>\n",
       "    </tr>\n",
       "    <tr>\n",
       "      <th>mean</th>\n",
       "      <td>0.257190</td>\n",
       "      <td>32.346498</td>\n",
       "      <td>0.902711</td>\n",
       "      <td>64.720098</td>\n",
       "      <td>2277.182035</td>\n",
       "      <td>2.157337</td>\n",
       "    </tr>\n",
       "    <tr>\n",
       "      <th>std</th>\n",
       "      <td>0.437115</td>\n",
       "      <td>24.571773</td>\n",
       "      <td>0.296371</td>\n",
       "      <td>30.129572</td>\n",
       "      <td>2268.648587</td>\n",
       "      <td>1.004319</td>\n",
       "    </tr>\n",
       "    <tr>\n",
       "      <th>min</th>\n",
       "      <td>0.000000</td>\n",
       "      <td>0.000000</td>\n",
       "      <td>0.000000</td>\n",
       "      <td>18.250000</td>\n",
       "      <td>0.000000</td>\n",
       "      <td>0.608333</td>\n",
       "    </tr>\n",
       "    <tr>\n",
       "      <th>25%</th>\n",
       "      <td>0.000000</td>\n",
       "      <td>9.000000</td>\n",
       "      <td>1.000000</td>\n",
       "      <td>35.425000</td>\n",
       "      <td>396.200000</td>\n",
       "      <td>1.180833</td>\n",
       "    </tr>\n",
       "    <tr>\n",
       "      <th>50%</th>\n",
       "      <td>0.000000</td>\n",
       "      <td>29.000000</td>\n",
       "      <td>1.000000</td>\n",
       "      <td>70.300000</td>\n",
       "      <td>1389.200000</td>\n",
       "      <td>2.343333</td>\n",
       "    </tr>\n",
       "    <tr>\n",
       "      <th>75%</th>\n",
       "      <td>1.000000</td>\n",
       "      <td>55.000000</td>\n",
       "      <td>1.000000</td>\n",
       "      <td>89.875000</td>\n",
       "      <td>3778.525000</td>\n",
       "      <td>2.995833</td>\n",
       "    </tr>\n",
       "    <tr>\n",
       "      <th>max</th>\n",
       "      <td>1.000000</td>\n",
       "      <td>72.000000</td>\n",
       "      <td>1.000000</td>\n",
       "      <td>118.750000</td>\n",
       "      <td>8684.800000</td>\n",
       "      <td>3.958333</td>\n",
       "    </tr>\n",
       "  </tbody>\n",
       "</table>\n",
       "</div>"
      ],
      "text/plain": [
       "             Churn       tenure  PhoneService  Charges.Monthly  Charges.Total  \\\n",
       "count  7267.000000  7267.000000   7267.000000      7267.000000    7267.000000   \n",
       "mean      0.257190    32.346498      0.902711        64.720098    2277.182035   \n",
       "std       0.437115    24.571773      0.296371        30.129572    2268.648587   \n",
       "min       0.000000     0.000000      0.000000        18.250000       0.000000   \n",
       "25%       0.000000     9.000000      1.000000        35.425000     396.200000   \n",
       "50%       0.000000    29.000000      1.000000        70.300000    1389.200000   \n",
       "75%       1.000000    55.000000      1.000000        89.875000    3778.525000   \n",
       "max       1.000000    72.000000      1.000000       118.750000    8684.800000   \n",
       "\n",
       "       Cuentas_Diarias  \n",
       "count      7267.000000  \n",
       "mean          2.157337  \n",
       "std           1.004319  \n",
       "min           0.608333  \n",
       "25%           1.180833  \n",
       "50%           2.343333  \n",
       "75%           2.995833  \n",
       "max           3.958333  "
      ]
     },
     "execution_count": 27,
     "metadata": {},
     "output_type": "execute_result"
    }
   ],
   "source": [
    "df[moreImportants].describe()"
   ]
  },
  {
   "cell_type": "markdown",
   "id": "16bf693e",
   "metadata": {},
   "source": [
    "### Distribución de evasión"
   ]
  },
  {
   "cell_type": "code",
   "execution_count": 50,
   "id": "70247bbf",
   "metadata": {},
   "outputs": [
    {
     "data": {
      "image/png": "[encoded data removed]",
      "text/plain": [
       "<Figure size 1200x1000 with 1 Axes>"
      ]
     },
     "metadata": {},
     "output_type": "display_data"
    }
   ],
   "source": [
    "plt.figure(figsize=(12, 10))\n",
    "plt.bar(df[\"Churn\"].value_counts().index, df[\"Churn\"].value_counts().values)\n",
    "plt.title(\"Distribución de clientes que abandonaron\")\n",
    "plt.xlabel(\"Abandonaron (0) o no (1)\")\n",
    "plt.ylabel(\"Cantidad de clientes\")\n",
    "plt.savefig(\"img/Distribucion_de_clientes_que_abandonaron.png\")\n",
    "plt.show()"
   ]
  },
  {
   "cell_type": "markdown",
   "id": "eb3fd87d",
   "metadata": {},
   "source": [
    "### Recuento de evasión por variables categóricas"
   ]
  },
  {
   "cell_type": "code",
   "execution_count": 51,
   "id": "8d958592",
   "metadata": {},
   "outputs": [
    {
     "data": {
      "image/png": "[encoded data removed]",
      "text/plain": [
       "<Figure size 1200x1000 with 4 Axes>"
      ]
     },
     "metadata": {},
     "output_type": "display_data"
    }
   ],
   "source": [
    "bar_cols = [\"gender\", \"Contract\", \"PaymentMethod\", \"PhoneService\"]\n",
    "\n",
    "fig, ax = plt.subplots(2, 2, figsize=(12, 10))\n",
    "fig.suptitle(\"Evasión de clientes por variables categóricas\")\n",
    "axes = ax.flatten()\n",
    "\n",
    "for i, col in enumerate(bar_cols):\n",
    "    cross = pd.crosstab(df[col], df[\"Churn\"])\n",
    "    cross.plot(kind=\"bar\", ax=axes[i], rot=45)\n",
    "    axes[i].set_title(f\"Evasión de clientes por {bar_cols[i]}\")\n",
    "    axes[i].set_xlabel(\"\")\n",
    "    axes[i].set_ylabel(\"\")\n",
    "    axes[i].set_ylim(0, 5000)\n",
    "    axes[i].legend(title=\"Churn\", labels=[\"No\", \"Sí\"])\n",
    "\n",
    "plt.savefig(\"img/Evasion_de_clientes_por_variables_categoricas.png\")\n",
    "plt.tight_layout(rect=[0, 0.03, 1, 0.95])\n",
    "plt.show()"
   ]
  },
  {
   "cell_type": "markdown",
   "id": "ab0e9b41",
   "metadata": {},
   "source": [
    "### Conteo de evasión por variables numéricas"
   ]
  },
  {
   "cell_type": "code",
   "execution_count": 52,
   "id": "d342ca1d",
   "metadata": {},
   "outputs": [
    {
     "data": {
      "image/png": "[encoded data removed]",
      "text/plain": [
       "<Figure size 1200x1000 with 3 Axes>"
      ]
     },
     "metadata": {},
     "output_type": "display_data"
    }
   ],
   "source": [
    "vio_cols = [\"Charges.Total\", \"tenure\", \"Cuentas_Diarias\"]\n",
    "\n",
    "fig, ax = plt.subplots(3, 1, figsize=(12, 10))\n",
    "fig.suptitle(\"Evasión de clientes por variables numéricas\")\n",
    "axes = ax.flatten()\n",
    "\n",
    "for i in range(len(vio_cols)):\n",
    "    sns.violinplot(data=df, x=\"Churn\", y=vio_cols[i], ax=axes[i])\n",
    "    axes[i].set_title(f\"Evasión de clientes por {vio_cols[i]}\")\n",
    "\n",
    "plt.savefig(\"img/Evasion_de_clientes_por_variables_numericas.png\")\n",
    "plt.tight_layout()\n",
    "plt.show()"
   ]
  },
  {
   "cell_type": "markdown",
   "id": "eb18856e",
   "metadata": {},
   "source": [
    "## Informe final"
   ]
  },
  {
   "cell_type": "markdown",
   "id": "2d7544c7",
   "metadata": {},
   "source": [
    "### Introducción\n",
    "**Objetivo del análisis:** Explorar datos de la empresa Telecom X para explicar un problema de evasión de clientes en la misma, explicación que por ellos mismos no pueden dar.\n",
    "\n",
    "**Problema:** Los empresa esta sufriendo una gran cantidad de abandono de sus clientes, siendo tan solo el 26% de los clientes que permanecen."
   ]
  },
  {
   "cell_type": "markdown",
   "id": "5547d0b1",
   "metadata": {},
   "source": [
    "### Limpieza y tratamiento de datos\n",
    "Pasos realizados en la extracción y transformación:\n",
    "- **Importación:** Los datos se extrajeron de Github y se importaron como un DataFrame de la libreria pandas en python.\n",
    "- **Limpieza:** Los datos eran muy incomodos de leer, por lo que se hizo un proceso de normalización el cual lo extiende para sea más legible.\n",
    "- **Procesamiento:** Al limpiar los datos, se revisaron las columnas más relevantes y solo se proceso la columna *Churn* (la cuál tenia registros vacios que se reemplazarón con \"No\" al ser la moda de la variable) y *Charges.Total* (la cual tenia registros vacios y se hizo algo parecido). Las demás columnas categóricas no presentaron problemas y las numéricas no presentaron datos atípicos con diferentes técnicas para identificarlos."
   ]
  },
  {
   "cell_type": "markdown",
   "id": "108fa43c",
   "metadata": {},
   "source": [
    "### Análisis Exploratorio de datos (EDA)\n",
    "Como se había comentado, el 74% de los clientes abandona la compañía. Las razones pueden deberse por:\n",
    "1. `Cancelación de contrato recurrente`: Este punto se refiere a que los clientes cancelan contratos que no podrían mantener con el contrato de un año o dos (solo muy pocos clientes que permanecen tienen ese tipo de contratos).\n",
    "2. `Cancelación por el método de pago`: Los clientes puede cancelar debido a los métodos de pago que escogen. Pueden ser porque son algo incomodos (como las facturas por correo) o este habiendo un problema con los métodos automáticos (los cuales pueden ser los más cómodos). De hecho, la mayoría de clientes que permanence son los que realizan las facturas electrónicas.\n",
    "3. `Servicios adicionales`: Los clientes que abandonan no aprovechan del todo los servicios ofrecidos a parte del telefónico. Hay muchos beneficios que la mayoría de clientes que abandonan no adquieren a diferencia de los que permanecen, donde sus cuentas diarias tienen gastos mayores."
   ]
  },
  {
   "cell_type": "markdown",
   "id": "5aa42081",
   "metadata": {},
   "source": [
    "### Gráficos\n",
    "Los siguientes gráficos presentados serviran para respladar las informaciones anteriores\n",
    "![Evasion de clientes por variables categoricas](img/Evasion_de_clientes_por_variables_categoricas.png)\n",
    "![Evasion de clientes por variables numericas](img/Evasion_de_clientes_por_variables_numericas.png)"
   ]
  },
  {
   "cell_type": "markdown",
   "id": "dbbe29d3",
   "metadata": {},
   "source": [
    "### Conclusiones e Insights\n",
    "En conclusión, la empresa sufre gran abandono de clientes debido a contratos que los clientes aceptan y son muy extendidos, los métodos de pagos pueden tener algún tipo de problema con los clientes y el poco uso de los servicios adicionales que ofrecen.\n",
    "\n",
    "Los clientes que abandonaron son los que más cuentan con estas características. Mayormente estas conclusiones están basadas en los clientes que aún permanecen, dejando pistas de como retener actuales y futuros clientes."
   ]
  },
  {
   "cell_type": "markdown",
   "id": "1137c3d8",
   "metadata": {},
   "source": [
    "### Recomendaciones"
   ]
  }
 ],
 "metadata": {
  "kernelspec": {
   "display_name": "Python 3",
   "language": "python",
   "name": "python3"
  },
  "language_info": {
   "codemirror_mode": {
    "name": "ipython",
    "version": 3
   },
   "file_extension": ".py",
   "mimetype": "text/x-python",
   "name": "python",
   "nbconvert_exporter": "python",
   "pygments_lexer": "ipython3",
   "version": "3.12.1"
  }
 },
 "nbformat": 4,
 "nbformat_minor": 5
}
